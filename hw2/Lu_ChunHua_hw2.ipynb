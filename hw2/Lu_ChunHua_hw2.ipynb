{
 "cells": [
  {
   "cell_type": "code",
   "execution_count": 1,
   "metadata": {},
   "outputs": [],
   "source": [
    "import pandas as pd\n",
    "from pandas import ExcelWriter\n",
    "from pandas import ExcelFile\n",
    "import numpy as np\n",
    "import matplotlib.pyplot as plt\n",
    "import statsmodels.api as sm"
   ]
  },
  {
   "cell_type": "code",
   "execution_count": 2,
   "metadata": {},
   "outputs": [],
   "source": [
    "power_data = pd.read_excel( \"Folds5x2_pp.xlsx\" , sheet_name='Sheet1')"
   ]
  },
  {
   "cell_type": "code",
   "execution_count": 3,
   "metadata": {},
   "outputs": [
    {
     "data": {
      "text/plain": [
       "pandas.core.frame.DataFrame"
      ]
     },
     "execution_count": 3,
     "metadata": {},
     "output_type": "execute_result"
    }
   ],
   "source": [
    "type(power_data)"
   ]
  },
  {
   "cell_type": "code",
   "execution_count": 4,
   "metadata": {},
   "outputs": [
    {
     "data": {
      "text/html": [
       "<div>\n",
       "<style scoped>\n",
       "    .dataframe tbody tr th:only-of-type {\n",
       "        vertical-align: middle;\n",
       "    }\n",
       "\n",
       "    .dataframe tbody tr th {\n",
       "        vertical-align: top;\n",
       "    }\n",
       "\n",
       "    .dataframe thead th {\n",
       "        text-align: right;\n",
       "    }\n",
       "</style>\n",
       "<table border=\"1\" class=\"dataframe\">\n",
       "  <thead>\n",
       "    <tr style=\"text-align: right;\">\n",
       "      <th></th>\n",
       "      <th>AT</th>\n",
       "      <th>V</th>\n",
       "      <th>AP</th>\n",
       "      <th>RH</th>\n",
       "      <th>PE</th>\n",
       "    </tr>\n",
       "  </thead>\n",
       "  <tbody>\n",
       "    <tr>\n",
       "      <td>0</td>\n",
       "      <td>14.96</td>\n",
       "      <td>41.76</td>\n",
       "      <td>1024.07</td>\n",
       "      <td>73.17</td>\n",
       "      <td>463.26</td>\n",
       "    </tr>\n",
       "    <tr>\n",
       "      <td>1</td>\n",
       "      <td>25.18</td>\n",
       "      <td>62.96</td>\n",
       "      <td>1020.04</td>\n",
       "      <td>59.08</td>\n",
       "      <td>444.37</td>\n",
       "    </tr>\n",
       "    <tr>\n",
       "      <td>2</td>\n",
       "      <td>5.11</td>\n",
       "      <td>39.40</td>\n",
       "      <td>1012.16</td>\n",
       "      <td>92.14</td>\n",
       "      <td>488.56</td>\n",
       "    </tr>\n",
       "    <tr>\n",
       "      <td>3</td>\n",
       "      <td>20.86</td>\n",
       "      <td>57.32</td>\n",
       "      <td>1010.24</td>\n",
       "      <td>76.64</td>\n",
       "      <td>446.48</td>\n",
       "    </tr>\n",
       "    <tr>\n",
       "      <td>4</td>\n",
       "      <td>10.82</td>\n",
       "      <td>37.50</td>\n",
       "      <td>1009.23</td>\n",
       "      <td>96.62</td>\n",
       "      <td>473.90</td>\n",
       "    </tr>\n",
       "    <tr>\n",
       "      <td>...</td>\n",
       "      <td>...</td>\n",
       "      <td>...</td>\n",
       "      <td>...</td>\n",
       "      <td>...</td>\n",
       "      <td>...</td>\n",
       "    </tr>\n",
       "    <tr>\n",
       "      <td>9563</td>\n",
       "      <td>16.65</td>\n",
       "      <td>49.69</td>\n",
       "      <td>1014.01</td>\n",
       "      <td>91.00</td>\n",
       "      <td>460.03</td>\n",
       "    </tr>\n",
       "    <tr>\n",
       "      <td>9564</td>\n",
       "      <td>13.19</td>\n",
       "      <td>39.18</td>\n",
       "      <td>1023.67</td>\n",
       "      <td>66.78</td>\n",
       "      <td>469.62</td>\n",
       "    </tr>\n",
       "    <tr>\n",
       "      <td>9565</td>\n",
       "      <td>31.32</td>\n",
       "      <td>74.33</td>\n",
       "      <td>1012.92</td>\n",
       "      <td>36.48</td>\n",
       "      <td>429.57</td>\n",
       "    </tr>\n",
       "    <tr>\n",
       "      <td>9566</td>\n",
       "      <td>24.48</td>\n",
       "      <td>69.45</td>\n",
       "      <td>1013.86</td>\n",
       "      <td>62.39</td>\n",
       "      <td>435.74</td>\n",
       "    </tr>\n",
       "    <tr>\n",
       "      <td>9567</td>\n",
       "      <td>21.60</td>\n",
       "      <td>62.52</td>\n",
       "      <td>1017.23</td>\n",
       "      <td>67.87</td>\n",
       "      <td>453.28</td>\n",
       "    </tr>\n",
       "  </tbody>\n",
       "</table>\n",
       "<p>9568 rows × 5 columns</p>\n",
       "</div>"
      ],
      "text/plain": [
       "         AT      V       AP     RH      PE\n",
       "0     14.96  41.76  1024.07  73.17  463.26\n",
       "1     25.18  62.96  1020.04  59.08  444.37\n",
       "2      5.11  39.40  1012.16  92.14  488.56\n",
       "3     20.86  57.32  1010.24  76.64  446.48\n",
       "4     10.82  37.50  1009.23  96.62  473.90\n",
       "...     ...    ...      ...    ...     ...\n",
       "9563  16.65  49.69  1014.01  91.00  460.03\n",
       "9564  13.19  39.18  1023.67  66.78  469.62\n",
       "9565  31.32  74.33  1012.92  36.48  429.57\n",
       "9566  24.48  69.45  1013.86  62.39  435.74\n",
       "9567  21.60  62.52  1017.23  67.87  453.28\n",
       "\n",
       "[9568 rows x 5 columns]"
      ]
     },
     "execution_count": 4,
     "metadata": {},
     "output_type": "execute_result"
    }
   ],
   "source": [
    "power_data"
   ]
  },
  {
   "cell_type": "code",
   "execution_count": 5,
   "metadata": {},
   "outputs": [
    {
     "data": {
      "text/plain": [
       "0       463.26\n",
       "1       444.37\n",
       "2       488.56\n",
       "3       446.48\n",
       "4       473.90\n",
       "         ...  \n",
       "9563    460.03\n",
       "9564    469.62\n",
       "9565    429.57\n",
       "9566    435.74\n",
       "9567    453.28\n",
       "Name: PE, Length: 9568, dtype: float64"
      ]
     },
     "execution_count": 5,
     "metadata": {},
     "output_type": "execute_result"
    }
   ],
   "source": [
    "power_data.iloc[:,4]"
   ]
  },
  {
   "cell_type": "markdown",
   "metadata": {},
   "source": [
    "### (b)  i:\n",
    "\n",
    "- 1. there are 9568 rows   \n",
    "- 2. there are 5 columns  \n",
    "- 3. Features\n",
    "consist of hourly average ambient variables Temperature (T), Ambient Pressure (AP),\n",
    "Relative Humidity (RH) and Exhaust Vacuum (V) to predict the net hourly electrical\n",
    "energy output (EP) of the plant.\n"
   ]
  },
  {
   "cell_type": "markdown",
   "metadata": {},
   "source": [
    "###  (b)  ii.\n",
    "<p>\n",
    "Make pairwise scatterplots of all the varianbles in the data set including the\n",
    "predictors (independent variables) with the dependent variable. Describe\n",
    "yourfindings\n",
    "</p>"
   ]
  },
  {
   "cell_type": "code",
   "execution_count": 6,
   "metadata": {
    "scrolled": true
   },
   "outputs": [
    {
     "data": {
      "image/png": "[encoded data removed]",
      "text/plain": [
       "<Figure size 432x288 with 1 Axes>"
      ]
     },
     "metadata": {
      "needs_background": "light"
     },
     "output_type": "display_data"
    },
    {
     "data": {
      "image/png": "[encoded data removed]",
      "text/plain": [
       "<Figure size 432x288 with 1 Axes>"
      ]
     },
     "metadata": {
      "needs_background": "light"
     },
     "output_type": "display_data"
    },
    {
     "data": {
      "image/png": "[encoded data removed]",
      "text/plain": [
       "<Figure size 432x288 with 1 Axes>"
      ]
     },
     "metadata": {
      "needs_background": "light"
     },
     "output_type": "display_data"
    },
    {
     "data": {
      "image/png": "[encoded data removed]",
      "text/plain": [
       "<Figure size 432x288 with 1 Axes>"
      ]
     },
     "metadata": {
      "needs_background": "light"
     },
     "output_type": "display_data"
    }
   ],
   "source": [
    "for i in range(0,4):\n",
    "    x = power_data.iloc[:,i]\n",
    "    y = power_data.iloc[:,-1]\n",
    "    #print (x)\n",
    "    #print(y)\n",
    "    plt.scatter(x, y )\n",
    "    plt.title('pairwise scatterplots of power plant')\n",
    "    plt.xlabel('x')\n",
    "    plt.ylabel('y')\n",
    "    plt.show()"
   ]
  },
  {
   "cell_type": "markdown",
   "metadata": {},
   "source": [
    "<div style=\"color:navy\"> ANS : </div>\n",
    "\n",
    "- For PE and AT : when AT is bigger PE will be small. The coefficient is -1\n",
    "- For PE and V  : when V is bigger PE will be small. The coefficient is bigger than PE to AT. -0.X\n",
    "- For PE and AP : when AP is bigger PE increases value. The coefficient is positive.\n",
    "- For PE and RH : when RH is bigger PE increases value. The  correlation is not obvious.\n"
   ]
  },
  {
   "cell_type": "code",
   "execution_count": 7,
   "metadata": {},
   "outputs": [],
   "source": [
    "np_power_data = power_data.to_numpy()"
   ]
  },
  {
   "cell_type": "code",
   "execution_count": 8,
   "metadata": {},
   "outputs": [
    {
     "name": "stdout",
     "output_type": "stream",
     "text": [
      "41.46\n",
      "75.6\n",
      "468.43\n",
      "35.3\n"
     ]
    }
   ],
   "source": [
    "print ( np.percentile(np_power_data, 25)  ) # first  quartiles\n",
    "print ( np.percentile(np_power_data, 50)  ) # median\n",
    "print ( np.percentile(np_power_data, 75)  ) # third quartiles\n",
    "print ( np.amax(np_power_data[:,0]) - np.amin(np_power_data[:,0]) )"
   ]
  },
  {
   "cell_type": "code",
   "execution_count": 9,
   "metadata": {},
   "outputs": [],
   "source": [
    "np_table = np.arange(20).reshape(4,5) \n",
    "for i in range(0,5): \n",
    "    np_tmp = np_power_data[:,i]\n",
    "    # first  quartiles\n",
    "    np_table[0:1,i] = (np.percentile(np_tmp, 25))  \n",
    "    # median\n",
    "    np_table[1:2, i] = (np.percentile(np_tmp, 50)) \n",
    "    # third quartiles\n",
    "    np_table[2:3, i] = (np.percentile(np_tmp, 75))  \n",
    "    # range\n",
    "    np_table[3:4, i] = (np.amax(np_tmp) - np.amin(np_tmp) ) \n",
    "    "
   ]
  },
  {
   "cell_type": "code",
   "execution_count": 10,
   "metadata": {},
   "outputs": [],
   "source": [
    "np_tab = [[] for _ in range(5)]\n",
    "for i in range(0,5): \n",
    "    np_tmp = np_power_data[:,i]\n",
    "      \n",
    "    # median\n",
    "    np_tab[i].append(np.percentile(np_tmp, 50)) \n",
    "    # range\n",
    "    np_tab[i].append(np.amax(np_tmp) - np.amin(np_tmp) ) \n",
    "    # first  quartiles\n",
    "    np_tab[i].append(np.percentile(np_tmp, 25))\n",
    "    # third quartiles\n",
    "    np_tab[i].append(np.percentile(np_tmp, 75))  \n",
    "    # interquartile range\n",
    "    np_tab[i].append(np.percentile(np_tmp, 75) - np.percentile(np_tmp, 25))  \n",
    "    \n",
    "    "
   ]
  },
  {
   "cell_type": "markdown",
   "metadata": {},
   "source": [
    "### (b) iii.\n",
    "What are the mean, the median, range, first and third quartiles, and in-\n",
    "terquartile ranges of each of the variables in the dataset? Summarize them\n",
    "in a table"
   ]
  },
  {
   "cell_type": "code",
   "execution_count": 11,
   "metadata": {},
   "outputs": [
    {
     "data": {
      "text/html": [
       "<div>\n",
       "<style scoped>\n",
       "    .dataframe tbody tr th:only-of-type {\n",
       "        vertical-align: middle;\n",
       "    }\n",
       "\n",
       "    .dataframe tbody tr th {\n",
       "        vertical-align: top;\n",
       "    }\n",
       "\n",
       "    .dataframe thead th {\n",
       "        text-align: right;\n",
       "    }\n",
       "</style>\n",
       "<table border=\"1\" class=\"dataframe\">\n",
       "  <thead>\n",
       "    <tr style=\"text-align: right;\">\n",
       "      <th></th>\n",
       "      <th>median</th>\n",
       "      <th>range</th>\n",
       "      <th>first quartiles</th>\n",
       "      <th>third quartiles</th>\n",
       "      <th>interquartile range</th>\n",
       "    </tr>\n",
       "  </thead>\n",
       "  <tbody>\n",
       "    <tr>\n",
       "      <td>AT</td>\n",
       "      <td>20.345</td>\n",
       "      <td>35.30</td>\n",
       "      <td>13.5100</td>\n",
       "      <td>25.72</td>\n",
       "      <td>12.2100</td>\n",
       "    </tr>\n",
       "    <tr>\n",
       "      <td>V</td>\n",
       "      <td>52.080</td>\n",
       "      <td>56.20</td>\n",
       "      <td>41.7400</td>\n",
       "      <td>66.54</td>\n",
       "      <td>24.8000</td>\n",
       "    </tr>\n",
       "    <tr>\n",
       "      <td>AP</td>\n",
       "      <td>1012.940</td>\n",
       "      <td>40.41</td>\n",
       "      <td>1009.1000</td>\n",
       "      <td>1017.26</td>\n",
       "      <td>8.1600</td>\n",
       "    </tr>\n",
       "    <tr>\n",
       "      <td>RH</td>\n",
       "      <td>74.975</td>\n",
       "      <td>74.60</td>\n",
       "      <td>63.3275</td>\n",
       "      <td>84.83</td>\n",
       "      <td>21.5025</td>\n",
       "    </tr>\n",
       "    <tr>\n",
       "      <td>PE</td>\n",
       "      <td>451.550</td>\n",
       "      <td>75.50</td>\n",
       "      <td>439.7500</td>\n",
       "      <td>468.43</td>\n",
       "      <td>28.6800</td>\n",
       "    </tr>\n",
       "  </tbody>\n",
       "</table>\n",
       "</div>"
      ],
      "text/plain": [
       "      median  range  first quartiles  third quartiles  interquartile range\n",
       "AT    20.345  35.30          13.5100            25.72              12.2100\n",
       "V     52.080  56.20          41.7400            66.54              24.8000\n",
       "AP  1012.940  40.41        1009.1000          1017.26               8.1600\n",
       "RH    74.975  74.60          63.3275            84.83              21.5025\n",
       "PE   451.550  75.50         439.7500           468.43              28.6800"
      ]
     },
     "execution_count": 11,
     "metadata": {},
     "output_type": "execute_result"
    }
   ],
   "source": [
    "table_vals = [np_tab[0],np_tab[1],np_tab[2],np_tab[3],np_tab[4]]\n",
    "row_labels = ['AT', 'V', 'AP', 'RH', 'PE']\n",
    "col_labels = ['median','range','first quartiles','third quartiles','interquartile range']\n",
    "pd.DataFrame(table_vals,columns = col_labels, index = row_labels)"
   ]
  },
  {
   "cell_type": "markdown",
   "metadata": {},
   "source": [
    "###  (c) .\n",
    "<p>\n",
    "For each predictor, fit a simple linear regression model to predict the response.\n",
    "Describe your results. In which of the models is there a statistically significant\n",
    "association between the predictor and the response? Create some plots to back\n",
    "up your assertions. Are there any outliers that you would like to remove from\n",
    "your data for each of these regression tasks?\n",
    "</p>"
   ]
  },
  {
   "cell_type": "code",
   "execution_count": 12,
   "metadata": {},
   "outputs": [],
   "source": [
    "from sklearn.linear_model import LinearRegression\n",
    "from sklearn.model_selection import train_test_split"
   ]
  },
  {
   "cell_type": "code",
   "execution_count": 13,
   "metadata": {},
   "outputs": [
    {
     "name": "stdout",
     "output_type": "stream",
     "text": [
      "7654\n",
      "7654\n",
      "1914\n",
      "1914\n"
     ]
    },
    {
     "data": {
      "image/png": "[encoded data removed]",
      "text/plain": [
       "<Figure size 432x288 with 1 Axes>"
      ]
     },
     "metadata": {
      "needs_background": "light"
     },
     "output_type": "display_data"
    },
    {
     "name": "stdout",
     "output_type": "stream",
     "text": [
      "7654\n",
      "7654\n",
      "1914\n",
      "1914\n"
     ]
    },
    {
     "data": {
      "image/png": "[encoded data removed]",
      "text/plain": [
       "<Figure size 432x288 with 1 Axes>"
      ]
     },
     "metadata": {
      "needs_background": "light"
     },
     "output_type": "display_data"
    },
    {
     "name": "stdout",
     "output_type": "stream",
     "text": [
      "7654\n",
      "7654\n",
      "1914\n",
      "1914\n"
     ]
    },
    {
     "data": {
      "image/png": "[encoded data removed]",
      "text/plain": [
       "<Figure size 432x288 with 1 Axes>"
      ]
     },
     "metadata": {
      "needs_background": "light"
     },
     "output_type": "display_data"
    },
    {
     "name": "stdout",
     "output_type": "stream",
     "text": [
      "7654\n",
      "7654\n",
      "1914\n",
      "1914\n"
     ]
    },
    {
     "data": {
      "image/png": "[encoded data removed]",
      "text/plain": [
       "<Figure size 432x288 with 1 Axes>"
      ]
     },
     "metadata": {
      "needs_background": "light"
     },
     "output_type": "display_data"
    }
   ],
   "source": [
    "simp_linear = list()\n",
    "for i in range(0,4):\n",
    "    #x = np_power_data[:,i].reshape(1,-1)\n",
    "    #y = np_power_data[:,-1].reshape(1,-1)\n",
    "    x = np_power_data[:,i]\n",
    "    y = np_power_data[:,-1]\n",
    "    x_train, x_test, y_train, y_test = train_test_split(x, y, test_size=0.2, random_state=0)\n",
    "    x_train = x_train.reshape(-1,1)\n",
    "    y_train = y_train.reshape(-1,1)\n",
    "    x_test = x_test.reshape(-1,1)\n",
    "    y_test = y_test.reshape(-1,1)\n",
    "    print(len(x_train))\n",
    "    print(len(y_train))\n",
    "    print(len(x_test))\n",
    "    print(len(y_test))\n",
    "    model = LinearRegression().fit(x_train, y_train)\n",
    "    \n",
    "    model.score(x_test, y_test)\n",
    "    simp_linear.append(model.coef_[0][0])\n",
    "    y_pred = model.predict(x_test) \n",
    "    plt.scatter(x_train, y_train, color = 'navy')\n",
    "    plt.plot(x_test, y_pred, color = 'yellow')\n",
    "    plt.title('Simple Linear Regression Predict')\n",
    "    plt.xlabel('predictor')\n",
    "    plt.ylabel('output')\n",
    "    plt.show()"
   ]
  },
  {
   "cell_type": "code",
   "execution_count": 14,
   "metadata": {},
   "outputs": [
    {
     "name": "stdout",
     "output_type": "stream",
     "text": [
      "[-2.1726024841820393, -1.1650690556881318, 1.4923230085641146, 0.45318039872621296]\n"
     ]
    }
   ],
   "source": [
    "print(simp_linear)"
   ]
  },
  {
   "cell_type": "code",
   "execution_count": 15,
   "metadata": {},
   "outputs": [
    {
     "data": {
      "text/plain": [
       "0.45318039872621296"
      ]
     },
     "execution_count": 15,
     "metadata": {},
     "output_type": "execute_result"
    }
   ],
   "source": [
    "model.coef_[0][0]"
   ]
  },
  {
   "cell_type": "code",
   "execution_count": 16,
   "metadata": {},
   "outputs": [
    {
     "name": "stdout",
     "output_type": "stream",
     "text": [
      "[-2.1726024841820393, -1.1650690556881318, 1.4923230085641146, 0.45318039872621296]\n"
     ]
    }
   ],
   "source": [
    "print(simp_linear)"
   ]
  },
  {
   "cell_type": "code",
   "execution_count": 17,
   "metadata": {},
   "outputs": [
    {
     "data": {
      "image/png": "[encoded data removed]",
      "text/plain": [
       "<Figure size 432x288 with 1 Axes>"
      ]
     },
     "metadata": {
      "needs_background": "light"
     },
     "output_type": "display_data"
    },
    {
     "data": {
      "image/png": "[encoded data removed]",
      "text/plain": [
       "<Figure size 432x288 with 1 Axes>"
      ]
     },
     "metadata": {
      "needs_background": "light"
     },
     "output_type": "display_data"
    },
    {
     "data": {
      "image/png": "[encoded data removed]",
      "text/plain": [
       "<Figure size 432x288 with 1 Axes>"
      ]
     },
     "metadata": {
      "needs_background": "light"
     },
     "output_type": "display_data"
    },
    {
     "data": {
      "image/png": "[encoded data removed]",
      "text/plain": [
       "<Figure size 432x288 with 1 Axes>"
      ]
     },
     "metadata": {
      "needs_background": "light"
     },
     "output_type": "display_data"
    }
   ],
   "source": [
    "for i in range(0,4):\n",
    "    x = power_data.iloc[:,i]\n",
    "    #y = power_data.iloc[:,-1]\n",
    "    plt.boxplot(x)\n",
    "    plt.title('pairwise scatterplots of power plant')\n",
    "    plt.xlabel('x')\n",
    "    plt.ylabel('y')\n",
    "    plt.show()"
   ]
  },
  {
   "cell_type": "markdown",
   "metadata": {},
   "source": [
    "### (d) \n",
    "Fit a multiple regression model to predict the response using all of the predictors.\n",
    "Describe your results. For which predictors can we reject the null hypothesis\n",
    "H0 : βj = 0?"
   ]
  },
  {
   "cell_type": "code",
   "execution_count": 18,
   "metadata": {},
   "outputs": [
    {
     "name": "stdout",
     "output_type": "stream",
     "text": [
      "    Coefficient\n",
      "AT    -1.973131\n",
      "V     -0.236500\n",
      "AP     0.063879\n",
      "RH    -0.158070\n",
      "      Actual   Predicted\n",
      "4834  431.23  431.427616\n",
      "1768  460.01  458.561246\n",
      "2819  461.14  462.752647\n",
      "7779  445.90  448.595962\n",
      "7065  451.29  457.870777\n",
      "...      ...         ...\n",
      "6452  460.29  463.634916\n",
      "794   452.42  457.035484\n",
      "627   473.26  469.518359\n",
      "3515  438.00  442.417595\n",
      "7600  463.28  461.882799\n",
      "\n",
      "[1914 rows x 2 columns]\n"
     ]
    }
   ],
   "source": [
    "x = power_data[['AT', 'V', 'AP','RH']]\n",
    "y = power_data['PE']\n",
    "x_train, x_test, y_train, y_test = train_test_split(x, y, test_size=0.2, random_state=0)\n",
    "#x_train = x_train.reshape(-1,1)\n",
    "#y_train = y_train.reshape(-1,1)\n",
    "#x_test = x_test.reshape(-1,1)\n",
    "#y_test = y_test.reshape(-1,1)\n",
    "\n",
    "model = LinearRegression().fit(x_train, y_train)\n",
    "\n",
    "r_sq = model.score(x_test, y_test)\n",
    "y_pred = model.predict(x_test) \n",
    "#plt.scatter(x_train, y_train, color = 'navy')\n",
    "\n",
    "coeff_df = pd.DataFrame(model.coef_, x.columns, columns=['Coefficient'])\n",
    "print(coeff_df)\n",
    "df = pd.DataFrame({'Actual': y_test, 'Predicted': y_pred})\n",
    "print(df)\n",
    "\n"
   ]
  },
  {
   "cell_type": "code",
   "execution_count": 19,
   "metadata": {},
   "outputs": [],
   "source": [
    "multi_linear = model.coef_"
   ]
  },
  {
   "cell_type": "code",
   "execution_count": 20,
   "metadata": {},
   "outputs": [
    {
     "name": "stdout",
     "output_type": "stream",
     "text": [
      "const    452.841037\n",
      "AT        -1.973131\n",
      "V         -0.236500\n",
      "AP         0.063879\n",
      "RH        -0.158070\n",
      "dtype: float64\n",
      "                            OLS Regression Results                            \n",
      "==============================================================================\n",
      "Dep. Variable:                     PE   R-squared:                       0.928\n",
      "Model:                            OLS   Adj. R-squared:                  0.928\n",
      "Method:                 Least Squares   F-statistic:                 2.455e+04\n",
      "Date:                Thu, 26 Sep 2019   Prob (F-statistic):               0.00\n",
      "Time:                        20:02:42   Log-Likelihood:                -22517.\n",
      "No. Observations:                7654   AIC:                         4.504e+04\n",
      "Df Residuals:                    7649   BIC:                         4.508e+04\n",
      "Df Model:                           4                                         \n",
      "Covariance Type:            nonrobust                                         \n",
      "==============================================================================\n",
      "                 coef    std err          t      P>|t|      [0.025      0.975]\n",
      "------------------------------------------------------------------------------\n",
      "const        452.8410     10.963     41.307      0.000     431.351     474.331\n",
      "AT            -1.9731      0.017   -114.394      0.000      -2.007      -1.939\n",
      "V             -0.2365      0.008    -28.917      0.000      -0.253      -0.220\n",
      "AP             0.0639      0.011      6.005      0.000       0.043       0.085\n",
      "RH            -0.1581      0.005    -33.684      0.000      -0.167      -0.149\n",
      "==============================================================================\n",
      "Omnibus:                      827.729   Durbin-Watson:                   2.036\n",
      "Prob(Omnibus):                  0.000   Jarque-Bera (JB):             4159.582\n",
      "Skew:                          -0.408   Prob(JB):                         0.00\n",
      "Kurtosis:                       6.518   Cond. No.                     2.13e+05\n",
      "==============================================================================\n",
      "\n",
      "Warnings:\n",
      "[1] Standard Errors assume that the covariance matrix of the errors is correctly specified.\n",
      "[2] The condition number is large, 2.13e+05. This might indicate that there are\n",
      "strong multicollinearity or other numerical problems.\n"
     ]
    },
    {
     "name": "stderr",
     "output_type": "stream",
     "text": [
      "/usr/local/lib/python3.7/site-packages/numpy/core/fromnumeric.py:2495: FutureWarning: Method .ptp is deprecated and will be removed in a future version. Use numpy.ptp instead.\n",
      "  return ptp(axis=axis, out=out, **kwargs)\n"
     ]
    }
   ],
   "source": [
    "x_train = sm.add_constant(x_train)\n",
    "#y = data.target\n",
    "\n",
    "# Fit the logistic regression\n",
    "est = sm.OLS(y_train, x_train)\n",
    "res = est.fit()\n",
    "predict = res.predict(x_train)\n",
    "print(res.params)\n",
    "print(res.summary())"
   ]
  },
  {
   "cell_type": "code",
   "execution_count": 21,
   "metadata": {},
   "outputs": [
    {
     "name": "stdout",
     "output_type": "stream",
     "text": [
      "[-2.1726024841820393, -1.1650690556881318, 1.4923230085641146, 0.45318039872621296]\n",
      "[-1.97313099 -0.23649993  0.06387891 -0.15807019]\n"
     ]
    }
   ],
   "source": [
    "#simp_linear = simp_linear *3\n",
    "print (simp_linear)\n",
    "print(multi_linear)"
   ]
  },
  {
   "cell_type": "markdown",
   "metadata": {},
   "source": [
    "### (e)\n",
    "How do your results from 1c compare to your results from 1d? Create a plot\n",
    "displaying the univariate regression coefficients from 1c on the x-axis, and the\n",
    "multiple regression coefficients from 1d on the y-axis. That is, each predictor is\n",
    "displayed as a single point in the plot. Its coefficient in a simple linear regression\n",
    "model is shown on the x-axis, and its coefficient estimate in the multiple linear\n",
    "regression model is shown on the y-axis"
   ]
  },
  {
   "cell_type": "code",
   "execution_count": 22,
   "metadata": {},
   "outputs": [
    {
     "data": {
      "image/png": "[encoded data removed]",
      "text/plain": [
       "<Figure size 432x288 with 1 Axes>"
      ]
     },
     "metadata": {
      "needs_background": "light"
     },
     "output_type": "display_data"
    }
   ],
   "source": [
    "plt.scatter(simp_linear, multi_linear)\n",
    "plt.show()"
   ]
  },
  {
   "cell_type": "markdown",
   "metadata": {},
   "source": [
    "### ( f )\n",
    "Is there evidence of nonlinear association between any of the predictors and the\n",
    "response? To answer this question, for each predictor\n",
    "X, fit a model of the form 1"
   ]
  },
  {
   "cell_type": "code",
   "execution_count": 23,
   "metadata": {},
   "outputs": [],
   "source": [
    "from sklearn.preprocessing import PolynomialFeatures\n",
    "from sklearn.linear_model import LinearRegression"
   ]
  },
  {
   "cell_type": "code",
   "execution_count": 24,
   "metadata": {},
   "outputs": [
    {
     "data": {
      "text/plain": [
       "'AT'"
      ]
     },
     "execution_count": 24,
     "metadata": {},
     "output_type": "execute_result"
    }
   ],
   "source": [
    "power_data.columns[0]"
   ]
  },
  {
   "cell_type": "code",
   "execution_count": 26,
   "metadata": {},
   "outputs": [
    {
     "data": {
      "image/png": "[encoded data removed]",
      "text/plain": [
       "<Figure size 432x288 with 1 Axes>"
      ]
     },
     "metadata": {
      "needs_background": "light"
     },
     "output_type": "display_data"
    },
    {
     "data": {
      "image/png": "[encoded data removed]",
      "text/plain": [
       "<Figure size 432x288 with 1 Axes>"
      ]
     },
     "metadata": {
      "needs_background": "light"
     },
     "output_type": "display_data"
    },
    {
     "data": {
      "image/png": "[encoded data removed]",
      "text/plain": [
       "<Figure size 432x288 with 1 Axes>"
      ]
     },
     "metadata": {
      "needs_background": "light"
     },
     "output_type": "display_data"
    },
    {
     "data": {
      "image/png": "[encoded data removed]",
      "text/plain": [
       "<Figure size 432x288 with 1 Axes>"
      ]
     },
     "metadata": {
      "needs_background": "light"
     },
     "output_type": "display_data"
    }
   ],
   "source": [
    "for i in range (0, 4):\n",
    "    x_f = power_data.iloc[:,i]\n",
    "    y_f = power_data.iloc[:,-1]\n",
    "    x_f = x_f.values.reshape(-1,1)\n",
    "    y_f = y_f.values.reshape(-1,1)\n",
    "    poly = PolynomialFeatures(degree=3)\n",
    "    x_poly = poly.fit_transform(x_f)\n",
    "    poly.fit(x_poly, y_f)\n",
    "    poly_reg = LinearRegression().fit(x_poly, y_f)\n",
    "    y_pred = poly_reg.predict(poly.fit_transform(x_f))\n",
    "    plt.scatter(x_f, y_f, color = 'navy')\n",
    "    plt.scatter(x_f ,y_pred , color = 'orange')\n",
    "    plt.title('polynomial regression')\n",
    "    plt.xlabel(power_data.columns[i])\n",
    "    plt.ylabel('energy output')\n",
    "    plt.show()"
   ]
  },
  {
   "cell_type": "markdown",
   "metadata": {},
   "source": [
    "### ( g )\n",
    "Is there evidence of association of interactions of predictors with the response? To\n",
    "answer this question, run a full linear regression model with all pairwise interaction\n",
    "terms and state whether any interaction terms are statistically significant."
   ]
  },
  {
   "cell_type": "code",
   "execution_count": 27,
   "metadata": {
    "scrolled": true
   },
   "outputs": [
    {
     "name": "stdout",
     "output_type": "stream",
     "text": [
      "                            OLS Regression Results                            \n",
      "==============================================================================\n",
      "Dep. Variable:                     PE   R-squared:                       0.925\n",
      "Model:                            OLS   Adj. R-squared:                  0.925\n",
      "Method:                 Least Squares   F-statistic:                 3.946e+04\n",
      "Date:                Thu, 26 Sep 2019   Prob (F-statistic):               0.00\n",
      "Time:                        20:02:48   Log-Likelihood:                -28315.\n",
      "No. Observations:                9568   AIC:                         5.664e+04\n",
      "Df Residuals:                    9564   BIC:                         5.667e+04\n",
      "Df Model:                           3                                         \n",
      "Covariance Type:            nonrobust                                         \n",
      "==============================================================================\n",
      "                 coef    std err          t      P>|t|      [0.025      0.975]\n",
      "------------------------------------------------------------------------------\n",
      "const        530.5331      0.753    704.391      0.000     529.057     532.010\n",
      "x1            -2.8781      0.036    -80.603      0.000      -2.948      -2.808\n",
      "x2            -0.8632      0.017    -50.904      0.000      -0.896      -0.830\n",
      "x3             0.0238      0.001     34.882      0.000       0.022       0.025\n",
      "==============================================================================\n",
      "Omnibus:                      900.654   Durbin-Watson:                   2.022\n",
      "Prob(Omnibus):                  0.000   Jarque-Bera (JB):             4170.914\n",
      "Skew:                          -0.354   Prob(JB):                         0.00\n",
      "Kurtosis:                       6.156   Cond. No.                     2.07e+04\n",
      "==============================================================================\n",
      "\n",
      "Warnings:\n",
      "[1] Standard Errors assume that the covariance matrix of the errors is correctly specified.\n",
      "[2] The condition number is large, 2.07e+04. This might indicate that there are\n",
      "strong multicollinearity or other numerical problems.\n"
     ]
    }
   ],
   "source": [
    "\n",
    "#col_nam1 = power_data.columns[0]\n",
    "#col_nam2 = power_data.columns[]\n",
    "X_data =power_data.loc[:,['AT','V']] \n",
    "y = power_data.iloc[:,-1]\n",
    "interaction = PolynomialFeatures(degree=3, include_bias=False, interaction_only=True)\n",
    "X_inter = interaction.fit_transform(X_data)\n",
    "#regr = LinearRegression()\n",
    "\n",
    "#model = regr.fit(X_inter, y)\n",
    "\n",
    "x_train = sm.add_constant(X_inter)\n",
    "#y = data.target\n",
    "\n",
    "# Fit the logistic regression\n",
    "est = sm.OLS(y, x_train)\n",
    "res = est.fit()\n",
    "predict = res.predict(x_train)\n",
    "print(res.summary())"
   ]
  },
  {
   "cell_type": "code",
   "execution_count": 28,
   "metadata": {},
   "outputs": [
    {
     "data": {
      "text/plain": [
       "0        624.7296\n",
       "1       1585.3328\n",
       "2        201.3340\n",
       "3       1195.6952\n",
       "4        405.7500\n",
       "          ...    \n",
       "9563     827.3385\n",
       "9564     516.7842\n",
       "9565    2328.0156\n",
       "9566    1700.1360\n",
       "9567    1350.4320\n",
       "Length: 9568, dtype: float64"
      ]
     },
     "execution_count": 28,
     "metadata": {},
     "output_type": "execute_result"
    }
   ],
   "source": [
    "power_data.loc[:,power_data.columns[0]] * power_data.loc[:,power_data.columns[1]]"
   ]
  },
  {
   "cell_type": "markdown",
   "metadata": {},
   "source": [
    "###  select two features and add interaction term"
   ]
  },
  {
   "cell_type": "code",
   "execution_count": 29,
   "metadata": {},
   "outputs": [
    {
     "name": "stdout",
     "output_type": "stream",
     "text": [
      "0        624.7296\n",
      "1       1585.3328\n",
      "2        201.3340\n",
      "3       1195.6952\n",
      "4        405.7500\n",
      "          ...    \n",
      "9563     827.3385\n",
      "9564     516.7842\n",
      "9565    2328.0156\n",
      "9566    1700.1360\n",
      "9567    1350.4320\n",
      "Length: 9568, dtype: float64\n",
      "                            OLS Regression Results                            \n",
      "==============================================================================\n",
      "Dep. Variable:                     PE   R-squared:                       0.873\n",
      "Model:                            OLS   Adj. R-squared:                  0.873\n",
      "Method:                 Least Squares   F-statistic:                 6.581e+04\n",
      "Date:                Thu, 26 Sep 2019   Prob (F-statistic):               0.00\n",
      "Time:                        20:02:50   Log-Likelihood:                -30846.\n",
      "No. Observations:                9568   AIC:                         6.170e+04\n",
      "Df Residuals:                    9566   BIC:                         6.171e+04\n",
      "Df Model:                           1                                         \n",
      "Covariance Type:            nonrobust                                         \n",
      "==============================================================================\n",
      "                 coef    std err          t      P>|t|      [0.025      0.975]\n",
      "------------------------------------------------------------------------------\n",
      "const        483.2069      0.128   3761.234      0.000     482.955     483.459\n",
      "0             -0.0251    9.8e-05   -256.531      0.000      -0.025      -0.025\n",
      "==============================================================================\n",
      "Omnibus:                       76.607   Durbin-Watson:                   2.007\n",
      "Prob(Omnibus):                  0.000   Jarque-Bera (JB):              120.200\n",
      "Skew:                           0.025   Prob(JB):                     7.92e-27\n",
      "Kurtosis:                       3.547   Cond. No.                     2.71e+03\n",
      "==============================================================================\n",
      "\n",
      "Warnings:\n",
      "[1] Standard Errors assume that the covariance matrix of the errors is correctly specified.\n",
      "[2] The condition number is large, 2.71e+03. This might indicate that there are\n",
      "strong multicollinearity or other numerical problems.\n",
      "0       15320.0872\n",
      "1       25684.6072\n",
      "2        5172.1376\n",
      "3       21073.6064\n",
      "4       10919.8686\n",
      "           ...    \n",
      "9563    16883.2665\n",
      "9564    13502.2073\n",
      "9565    31724.6544\n",
      "9566    24819.2928\n",
      "9567    21972.1680\n",
      "Length: 9568, dtype: float64\n",
      "                            OLS Regression Results                            \n",
      "==============================================================================\n",
      "Dep. Variable:                     PE   R-squared:                       0.898\n",
      "Model:                            OLS   Adj. R-squared:                  0.898\n",
      "Method:                 Least Squares   F-statistic:                 8.410e+04\n",
      "Date:                Thu, 26 Sep 2019   Prob (F-statistic):               0.00\n",
      "Time:                        20:02:50   Log-Likelihood:                -29807.\n",
      "No. Observations:                9568   AIC:                         5.962e+04\n",
      "Df Residuals:                    9566   BIC:                         5.963e+04\n",
      "Df Model:                           1                                         \n",
      "Covariance Type:            nonrobust                                         \n",
      "==============================================================================\n",
      "                 coef    std err          t      P>|t|      [0.025      0.975]\n",
      "------------------------------------------------------------------------------\n",
      "const        497.2831      0.158   3144.321      0.000     496.973     497.593\n",
      "0             -0.0022   7.44e-06   -289.995      0.000      -0.002      -0.002\n",
      "==============================================================================\n",
      "Omnibus:                      414.691   Durbin-Watson:                   2.033\n",
      "Prob(Omnibus):                  0.000   Jarque-Bera (JB):             1096.318\n",
      "Skew:                          -0.212   Prob(JB):                    8.66e-239\n",
      "Kurtosis:                       4.603   Cond. No.                     6.03e+04\n",
      "==============================================================================\n",
      "\n",
      "Warnings:\n",
      "[1] Standard Errors assume that the covariance matrix of the errors is correctly specified.\n",
      "[2] The condition number is large, 6.03e+04. This might indicate that there are\n",
      "strong multicollinearity or other numerical problems.\n",
      "0       1094.6232\n",
      "1       1487.6344\n",
      "2        470.8354\n",
      "3       1598.7104\n",
      "4       1045.4284\n",
      "          ...    \n",
      "9563    1515.1500\n",
      "9564     880.8282\n",
      "9565    1142.5536\n",
      "9566    1527.3072\n",
      "9567    1465.9920\n",
      "Length: 9568, dtype: float64\n",
      "                            OLS Regression Results                            \n",
      "==============================================================================\n",
      "Dep. Variable:                     PE   R-squared:                       0.731\n",
      "Model:                            OLS   Adj. R-squared:                  0.731\n",
      "Method:                 Least Squares   F-statistic:                 2.600e+04\n",
      "Date:                Thu, 26 Sep 2019   Prob (F-statistic):               0.00\n",
      "Time:                        20:02:50   Log-Likelihood:                -34439.\n",
      "No. Observations:                9568   AIC:                         6.888e+04\n",
      "Df Residuals:                    9566   BIC:                         6.890e+04\n",
      "Df Model:                           1                                         \n",
      "Covariance Type:            nonrobust                                         \n",
      "==============================================================================\n",
      "                 coef    std err          t      P>|t|      [0.025      0.975]\n",
      "------------------------------------------------------------------------------\n",
      "const        496.9139      0.279   1781.292      0.000     496.367     497.461\n",
      "0             -0.0308      0.000   -161.245      0.000      -0.031      -0.030\n",
      "==============================================================================\n",
      "Omnibus:                     1280.440   Durbin-Watson:                   1.989\n",
      "Prob(Omnibus):                  0.000   Jarque-Bera (JB):             1971.998\n",
      "Skew:                          -0.955   Prob(JB):                         0.00\n",
      "Kurtosis:                       4.140   Cond. No.                     4.50e+03\n",
      "==============================================================================\n",
      "\n",
      "Warnings:\n",
      "[1] Standard Errors assume that the covariance matrix of the errors is correctly specified.\n",
      "[2] The condition number is large, 4.5e+03. This might indicate that there are\n",
      "strong multicollinearity or other numerical problems.\n",
      "0       42765.1632\n",
      "1       64221.7184\n",
      "2       39879.1040\n",
      "3       57906.9568\n",
      "4       37846.1250\n",
      "           ...    \n",
      "9563    50386.1569\n",
      "9564    40107.3906\n",
      "9565    75290.3436\n",
      "9566    70412.5770\n",
      "9567    63597.2196\n",
      "Length: 9568, dtype: float64\n",
      "                            OLS Regression Results                            \n",
      "==============================================================================\n",
      "Dep. Variable:                     PE   R-squared:                       0.750\n",
      "Model:                            OLS   Adj. R-squared:                  0.750\n",
      "Method:                 Least Squares   F-statistic:                 2.872e+04\n",
      "Date:                Thu, 26 Sep 2019   Prob (F-statistic):               0.00\n",
      "Time:                        20:02:50   Log-Likelihood:                -34087.\n",
      "No. Observations:                9568   AIC:                         6.818e+04\n",
      "Df Residuals:                    9566   BIC:                         6.819e+04\n",
      "Df Model:                           1                                         \n",
      "Covariance Type:            nonrobust                                         \n",
      "==============================================================================\n",
      "                 coef    std err          t      P>|t|      [0.025      0.975]\n",
      "------------------------------------------------------------------------------\n",
      "const        518.1882      0.387   1340.454      0.000     517.430     518.946\n",
      "0             -0.0012   6.85e-06   -169.468      0.000      -0.001      -0.001\n",
      "==============================================================================\n",
      "Omnibus:                       78.776   Durbin-Watson:                   2.007\n",
      "Prob(Omnibus):                  0.000   Jarque-Bera (JB):              108.683\n",
      "Skew:                          -0.107   Prob(JB):                     2.51e-24\n",
      "Kurtosis:                       3.476   Cond. No.                     2.50e+05\n",
      "==============================================================================\n",
      "\n",
      "Warnings:\n",
      "[1] Standard Errors assume that the covariance matrix of the errors is correctly specified.\n",
      "[2] The condition number is large, 2.5e+05. This might indicate that there are\n",
      "strong multicollinearity or other numerical problems.\n",
      "0       3055.5792\n",
      "1       3719.6768\n",
      "2       3630.3160\n",
      "3       4393.0048\n",
      "4       3623.2500\n",
      "          ...    \n",
      "9563    4521.7900\n",
      "9564    2616.4404\n",
      "9565    2711.5584\n",
      "9566    4332.9855\n",
      "9567    4243.2324\n",
      "Length: 9568, dtype: float64\n",
      "                            OLS Regression Results                            \n",
      "==============================================================================\n",
      "Dep. Variable:                     PE   R-squared:                       0.236\n",
      "Model:                            OLS   Adj. R-squared:                  0.235\n",
      "Method:                 Least Squares   F-statistic:                     2947.\n",
      "Date:                Thu, 26 Sep 2019   Prob (F-statistic):               0.00\n",
      "Time:                        20:02:50   Log-Likelihood:                -39437.\n",
      "No. Observations:                9568   AIC:                         7.888e+04\n",
      "Df Residuals:                    9566   BIC:                         7.889e+04\n",
      "Df Model:                           1                                         \n",
      "Covariance Type:            nonrobust                                         \n",
      "==============================================================================\n",
      "                 coef    std err          t      P>|t|      [0.025      0.975]\n",
      "------------------------------------------------------------------------------\n",
      "const        485.4336      0.592    819.549      0.000     484.273     486.595\n",
      "0             -0.0079      0.000    -54.284      0.000      -0.008      -0.008\n",
      "==============================================================================\n",
      "Omnibus:                      224.203   Durbin-Watson:                   2.014\n",
      "Prob(Omnibus):                  0.000   Jarque-Bera (JB):              115.421\n",
      "Skew:                           0.005   Prob(JB):                     8.64e-26\n",
      "Kurtosis:                       2.462   Cond. No.                     1.58e+04\n",
      "==============================================================================\n",
      "\n",
      "Warnings:\n",
      "[1] Standard Errors assume that the covariance matrix of the errors is correctly specified.\n",
      "[2] The condition number is large, 1.58e+04. This might indicate that there are\n",
      "strong multicollinearity or other numerical problems.\n",
      "0       74931.2019\n",
      "1       60263.9632\n",
      "2       93260.4224\n",
      "3       77424.7936\n",
      "4       97511.8026\n",
      "           ...    \n",
      "9563    92274.9100\n",
      "9564    68360.6826\n",
      "9565    36951.3216\n",
      "9566    63254.7254\n",
      "9567    69039.4001\n",
      "Length: 9568, dtype: float64\n",
      "                            OLS Regression Results                            \n",
      "==============================================================================\n",
      "Dep. Variable:                     PE   R-squared:                       0.163\n",
      "Model:                            OLS   Adj. R-squared:                  0.163\n",
      "Method:                 Least Squares   F-statistic:                     1866.\n",
      "Date:                Thu, 26 Sep 2019   Prob (F-statistic):               0.00\n",
      "Time:                        20:02:50   Log-Likelihood:                -39869.\n",
      "No. Observations:                9568   AIC:                         7.974e+04\n",
      "Df Residuals:                    9566   BIC:                         7.976e+04\n",
      "Df Model:                           1                                         \n",
      "Covariance Type:            nonrobust                                         \n",
      "==============================================================================\n",
      "                 coef    std err          t      P>|t|      [0.025      0.975]\n",
      "------------------------------------------------------------------------------\n",
      "const        419.8324      0.815    514.989      0.000     418.234     421.430\n",
      "0              0.0005   1.08e-05     43.196      0.000       0.000       0.000\n",
      "==============================================================================\n",
      "Omnibus:                      704.306   Durbin-Watson:                   1.997\n",
      "Prob(Omnibus):                  0.000   Jarque-Bera (JB):              305.082\n",
      "Skew:                           0.230   Prob(JB):                     5.65e-67\n",
      "Kurtosis:                       2.256   Cond. No.                     3.87e+05\n",
      "==============================================================================\n",
      "\n",
      "Warnings:\n",
      "[1] Standard Errors assume that the covariance matrix of the errors is correctly specified.\n",
      "[2] The condition number is large, 3.87e+05. This might indicate that there are\n",
      "strong multicollinearity or other numerical problems.\n"
     ]
    },
    {
     "name": "stderr",
     "output_type": "stream",
     "text": [
      "/usr/local/lib/python3.7/site-packages/numpy/core/fromnumeric.py:2495: FutureWarning: Method .ptp is deprecated and will be removed in a future version. Use numpy.ptp instead.\n",
      "  return ptp(axis=axis, out=out, **kwargs)\n"
     ]
    }
   ],
   "source": [
    "\n",
    "for i in range(0,4):\n",
    "    for j in range(0,4):\n",
    "        if i != j and j>i:\n",
    "            X_data =  power_data.loc[:,power_data.columns[i]] * power_data.loc[:,power_data.columns[j]]\n",
    "            print(X_data)\n",
    "            y = power_data.iloc[:,-1]\n",
    "            x_train = sm.add_constant(X_data)\n",
    "            est = sm.OLS(y, x_train)\n",
    "            res = est.fit()\n",
    "            predict = res.predict(x_train)\n",
    "            print(res.summary())\n",
    "            "
   ]
  },
  {
   "cell_type": "code",
   "execution_count": 83,
   "metadata": {},
   "outputs": [
    {
     "name": "stdout",
     "output_type": "stream",
     "text": [
      "                            OLS Regression Results                            \n",
      "==============================================================================\n",
      "Dep. Variable:                      y   R-squared:                       0.936\n",
      "Model:                            OLS   Adj. R-squared:                  0.936\n",
      "Method:                 Least Squares   F-statistic:                 1.405e+04\n",
      "Date:                Thu, 26 Sep 2019   Prob (F-statistic):               0.00\n",
      "Time:                        22:36:05   Log-Likelihood:                -27548.\n",
      "No. Observations:                9568   AIC:                         5.512e+04\n",
      "Df Residuals:                    9557   BIC:                         5.520e+04\n",
      "Df Model:                          10                                         \n",
      "Covariance Type:            nonrobust                                         \n",
      "==============================================================================\n",
      "                 coef    std err          t      P>|t|      [0.025      0.975]\n",
      "------------------------------------------------------------------------------\n",
      "const        685.7825     78.640      8.721      0.000     531.631     839.934\n",
      "x1            -4.3470      2.373     -1.832      0.067      -8.999       0.305\n",
      "x2            -7.6749      1.351     -5.682      0.000     -10.323      -5.027\n",
      "x3            -0.1524      0.077     -1.983      0.047      -0.303      -0.002\n",
      "x4             1.5709      0.773      2.031      0.042       0.055       3.087\n",
      "x5             0.0210      0.001     23.338      0.000       0.019       0.023\n",
      "x6             0.0018      0.002      0.752      0.452      -0.003       0.006\n",
      "x7            -0.0052      0.001     -6.444      0.000      -0.007      -0.004\n",
      "x8             0.0068      0.001      5.135      0.000       0.004       0.009\n",
      "x9             0.0008      0.000      1.716      0.086      -0.000       0.002\n",
      "x10           -0.0016      0.001     -2.125      0.034      -0.003      -0.000\n",
      "==============================================================================\n",
      "Omnibus:                     1454.609   Durbin-Watson:                   2.030\n",
      "Prob(Omnibus):                  0.000   Jarque-Bera (JB):             9170.848\n",
      "Skew:                          -0.574   Prob(JB):                         0.00\n",
      "Kurtosis:                       7.657   Cond. No.                     1.70e+08\n",
      "==============================================================================\n",
      "\n",
      "Warnings:\n",
      "[1] Standard Errors assume that the covariance matrix of the errors is correctly specified.\n",
      "[2] The condition number is large, 1.7e+08. This might indicate that there are\n",
      "strong multicollinearity or other numerical problems.\n"
     ]
    }
   ],
   "source": [
    "g_data = []\n",
    "for i in range(0,4):\n",
    "    g_data.append(power_data[power_data.columns[i]])\n",
    "for i in range(0,4):\n",
    "    for j in range(0,4):\n",
    "        if i != j and j>i:\n",
    "            g_data.append(g_1[i]*g_1[j])\n",
    "g_data = np.array(g_data).T\n",
    "z = np.array(power_data.iloc[:,4])\n",
    "x = sm.add_constant(g_data)\n",
    "model = sm.OLS(z,x)\n",
    "asd = model.fit()\n",
    "print(asd.summary())"
   ]
  },
  {
   "cell_type": "markdown",
   "metadata": {},
   "source": [
    "<div style = \"color:navy\" >\n",
    "P-Value less than 0.05 in interaction terms: \n",
    "    AT&V, AT&RH, V&AP, AP&RH \n",
    "</div>"
   ]
  },
  {
   "cell_type": "markdown",
   "metadata": {},
   "source": [
    "### ( h )\n",
    "Can you improve your model using possible interaction terms or nonlinear asso-\n",
    "ciations between the predictors and response? Train the regression model on a\n",
    "randomly selected 70% subset of the data with all predictors. Also, run a regres-\n",
    "sion model involving all possible interaction terms and quadratic nonlinearities,\n",
    "and remove insignificant variables using p-values (be careful about interaction\n",
    "terms). Test both models on the remaining points and report your train and test\n",
    "MSEs"
   ]
  },
  {
   "cell_type": "code",
   "execution_count": 107,
   "metadata": {
    "scrolled": false
   },
   "outputs": [
    {
     "name": "stdout",
     "output_type": "stream",
     "text": [
      "                            OLS Regression Results                            \n",
      "==============================================================================\n",
      "Dep. Variable:                      y   R-squared:                       0.938\n",
      "Model:                            OLS   Adj. R-squared:                  0.938\n",
      "Method:                 Least Squares   F-statistic:                     7197.\n",
      "Date:                Thu, 26 Sep 2019   Prob (F-statistic):               0.00\n",
      "Time:                        23:34:13   Log-Likelihood:                -19173.\n",
      "No. Observations:                6697   AIC:                         3.838e+04\n",
      "Df Residuals:                    6682   BIC:                         3.848e+04\n",
      "Df Model:                          14                                         \n",
      "Covariance Type:            nonrobust                                         \n",
      "==============================================================================\n",
      "                 coef    std err          t      P>|t|      [0.025      0.975]\n",
      "------------------------------------------------------------------------------\n",
      "const      -7432.0753   1412.101     -5.263      0.000   -1.02e+04   -4663.907\n",
      "x1            -6.9731      3.603     -1.935      0.053     -14.037       0.091\n",
      "x2            -2.2706      1.778     -1.277      0.202      -5.756       1.215\n",
      "x3            15.4772      2.739      5.651      0.000      10.108      20.846\n",
      "x4             3.6265      1.030      3.521      0.000       1.607       5.646\n",
      "x5             0.0082      0.003      2.559      0.011       0.002       0.014\n",
      "x6             0.0043      0.004      1.237      0.216      -0.003       0.011\n",
      "x7            -0.0052      0.002     -2.899      0.004      -0.009      -0.002\n",
      "x8             0.0018      0.002      1.027      0.305      -0.002       0.005\n",
      "x9            -0.0002      0.001     -0.194      0.846      -0.002       0.001\n",
      "x10           -0.0033      0.001     -3.334      0.001      -0.005      -0.001\n",
      "x11            0.0188      0.004      5.129      0.000       0.012       0.026\n",
      "x12            0.0001      0.001      0.150      0.881      -0.002       0.002\n",
      "x13           -0.0075      0.001     -5.669      0.000      -0.010      -0.005\n",
      "x14           -0.0018      0.000     -5.899      0.000      -0.002      -0.001\n",
      "==============================================================================\n",
      "Omnibus:                      945.439   Durbin-Watson:                   1.998\n",
      "Prob(Omnibus):                  0.000   Jarque-Bera (JB):             5408.602\n",
      "Skew:                          -0.546   Prob(JB):                         0.00\n",
      "Kurtosis:                       7.265   Cond. No.                     2.81e+10\n",
      "==============================================================================\n",
      "\n",
      "Warnings:\n",
      "[1] Standard Errors assume that the covariance matrix of the errors is correctly specified.\n",
      "[2] The condition number is large, 2.81e+10. This might indicate that there are\n",
      "strong multicollinearity or other numerical problems.\n",
      "\n",
      "\n",
      " Train MSE is : 17.954310615272668\n",
      " Test MSE is : 18.488660568583484\n"
     ]
    }
   ],
   "source": [
    "h_data = []\n",
    "for i in range(0,4):\n",
    "    h_data.append(power_data[power_data.columns[i]])\n",
    "    \n",
    "for i in range(0,4):\n",
    "    for j in range(0,4):\n",
    "        if i != j and j>i:\n",
    "            h_data.append(h_data[i]*h_data[j])\n",
    "for i in range(0,4):\n",
    "    h_data.append(h_data[i]*h_data[i])\n",
    "h_data = np.array(h_data).T\n",
    "y = power_data.iloc[:,-1]\n",
    "y = y.to_numpy()\n",
    "#print(h_data)\n",
    "#print(y)\n",
    "x_train, x_test, y_train, y_test = train_test_split(h_data, y, test_size=0.3, random_state = 70)\n",
    "\n",
    "model = LinearRegression().fit(x_train, y_train)\n",
    "r_sq = model.score(x_test, y_test)\n",
    "y_pred_test = model.predict(x_test) \n",
    "y_pred_train = model.predict(x_train)\n",
    "\n",
    "x_train = sm.add_constant(x_train)\n",
    "est = sm.OLS(y_train, x_train)\n",
    "res = est.fit()\n",
    "print(res.summary())\n",
    "train_MSE = sum( (y_pred_train - y_train) ** 2 ) / len(y_train)\n",
    "test_MSE = sum(  (y_pred_test - y_test) **2  ) / len(y_test)\n",
    "print(\"\\n\")\n",
    "print(\" Train MSE is : \" + str(train_MSE) )\n",
    "print(\" Test MSE is : \" + str(test_MSE) )\n",
    "\n",
    "\n"
   ]
  },
  {
   "cell_type": "code",
   "execution_count": 108,
   "metadata": {},
   "outputs": [
    {
     "name": "stdout",
     "output_type": "stream",
     "text": [
      "p value > 0.05\n",
      "6  0.21629324042068965\n",
      "8  0.30453795516621546\n",
      "9  0.8464559561839943\n",
      "12  0.8807941637564868\n"
     ]
    }
   ],
   "source": [
    "remove = []\n",
    "print(\"p value > 0.05\")\n",
    "h_len = len(res.pvalues)\n",
    "for i in range(4,h_len):\n",
    "    if res.pvalues[i] > 0.05:\n",
    "        print ( str(i) + \"  \" + str (res.pvalues[i] ) )\n",
    "        remove.append(i)"
   ]
  },
  {
   "cell_type": "code",
   "execution_count": 109,
   "metadata": {},
   "outputs": [
    {
     "name": "stdout",
     "output_type": "stream",
     "text": [
      "[0       14.96\n",
      "1       25.18\n",
      "2        5.11\n",
      "3       20.86\n",
      "4       10.82\n",
      "        ...  \n",
      "9563    16.65\n",
      "9564    13.19\n",
      "9565    31.32\n",
      "9566    24.48\n",
      "9567    21.60\n",
      "Name: AT, Length: 9568, dtype: float64, 0       41.76\n",
      "1       62.96\n",
      "2       39.40\n",
      "3       57.32\n",
      "4       37.50\n",
      "        ...  \n",
      "9563    49.69\n",
      "9564    39.18\n",
      "9565    74.33\n",
      "9566    69.45\n",
      "9567    62.52\n",
      "Name: V, Length: 9568, dtype: float64, 0       1024.07\n",
      "1       1020.04\n",
      "2       1012.16\n",
      "3       1010.24\n",
      "4       1009.23\n",
      "         ...   \n",
      "9563    1014.01\n",
      "9564    1023.67\n",
      "9565    1012.92\n",
      "9566    1013.86\n",
      "9567    1017.23\n",
      "Name: AP, Length: 9568, dtype: float64, 0       73.17\n",
      "1       59.08\n",
      "2       92.14\n",
      "3       76.64\n",
      "4       96.62\n",
      "        ...  \n",
      "9563    91.00\n",
      "9564    66.78\n",
      "9565    36.48\n",
      "9566    62.39\n",
      "9567    67.87\n",
      "Name: RH, Length: 9568, dtype: float64, 0        624.7296\n",
      "1       1585.3328\n",
      "2        201.3340\n",
      "3       1195.6952\n",
      "4        405.7500\n",
      "          ...    \n",
      "9563     827.3385\n",
      "9564     516.7842\n",
      "9565    2328.0156\n",
      "9566    1700.1360\n",
      "9567    1350.4320\n",
      "Length: 9568, dtype: float64, 0       15320.0872\n",
      "1       25684.6072\n",
      "2        5172.1376\n",
      "3       21073.6064\n",
      "4       10919.8686\n",
      "           ...    \n",
      "9563    16883.2665\n",
      "9564    13502.2073\n",
      "9565    31724.6544\n",
      "9566    24819.2928\n",
      "9567    21972.1680\n",
      "Length: 9568, dtype: float64, 0       42765.1632\n",
      "1       64221.7184\n",
      "2       39879.1040\n",
      "3       57906.9568\n",
      "4       37846.1250\n",
      "           ...    \n",
      "9563    50386.1569\n",
      "9564    40107.3906\n",
      "9565    75290.3436\n",
      "9566    70412.5770\n",
      "9567    63597.2196\n",
      "Length: 9568, dtype: float64, 0       223.8016\n",
      "1       634.0324\n",
      "2        26.1121\n",
      "3       435.1396\n",
      "4       117.0724\n",
      "          ...   \n",
      "9563    277.2225\n",
      "9564    173.9761\n",
      "9565    980.9424\n",
      "9566    599.2704\n",
      "9567    466.5600\n",
      "Name: AT, Length: 9568, dtype: float64, 0       1743.8976\n",
      "1       3963.9616\n",
      "2       1552.3600\n",
      "3       3285.5824\n",
      "4       1406.2500\n",
      "          ...    \n",
      "9563    2469.0961\n",
      "9564    1535.0724\n",
      "9565    5524.9489\n",
      "9566    4823.3025\n",
      "9567    3908.7504\n",
      "Name: V, Length: 9568, dtype: float64, 0       5353.8489\n",
      "1       3490.4464\n",
      "2       8489.7796\n",
      "3       5873.6896\n",
      "4       9335.4244\n",
      "          ...    \n",
      "9563    8281.0000\n",
      "9564    4459.5684\n",
      "9565    1330.7904\n",
      "9566    3892.5121\n",
      "9567    4606.3369\n",
      "Name: RH, Length: 9568, dtype: float64]\n"
     ]
    }
   ],
   "source": [
    "after_remove = []\n",
    "h_data_2 = []\n",
    "for i in range(0,4):\n",
    "    h_data_2.append(power_data[power_data.columns[i]])\n",
    "    \n",
    "for i in range(0,4):\n",
    "    for j in range(0,4):\n",
    "        if i != j and j>i:\n",
    "            h_data_2.append(h_data_2[i]*h_data_2[j])\n",
    "for i in range(0,4):\n",
    "    h_data_2.append(h_data_2[i]*h_data_2[i])\n",
    "    \n",
    "for i in range(0,len(h_data_2)):\n",
    "    if i not in remove:\n",
    "        after_remove.append(h_data_2[i])\n",
    "        \n",
    "            \n",
    "print(after_remove)"
   ]
  },
  {
   "cell_type": "code",
   "execution_count": 110,
   "metadata": {},
   "outputs": [
    {
     "name": "stdout",
     "output_type": "stream",
     "text": [
      "                            OLS Regression Results                            \n",
      "==============================================================================\n",
      "Dep. Variable:                      y   R-squared:                       0.937\n",
      "Model:                            OLS   Adj. R-squared:                  0.937\n",
      "Method:                 Least Squares   F-statistic:                     9997.\n",
      "Date:                Thu, 26 Sep 2019   Prob (F-statistic):               0.00\n",
      "Time:                        23:34:26   Log-Likelihood:                -19199.\n",
      "No. Observations:                6697   AIC:                         3.842e+04\n",
      "Df Residuals:                    6686   BIC:                         3.850e+04\n",
      "Df Model:                          10                                         \n",
      "Covariance Type:            nonrobust                                         \n",
      "==============================================================================\n",
      "                 coef    std err          t      P>|t|      [0.025      0.975]\n",
      "------------------------------------------------------------------------------\n",
      "const        737.1402     51.218     14.392      0.000     636.737     837.544\n",
      "x1           -18.8400      2.652     -7.104      0.000     -24.039     -13.641\n",
      "x2            -1.6176      1.631     -0.992      0.321      -4.814       1.579\n",
      "x3            -0.2096      0.050     -4.175      0.000      -0.308      -0.111\n",
      "x4             0.0276      0.031      0.886      0.376      -0.034       0.089\n",
      "x5             0.0086      0.002      3.554      0.000       0.004       0.013\n",
      "x6             0.0154      0.003      5.889      0.000       0.010       0.021\n",
      "x7             0.0012      0.002      0.734      0.463      -0.002       0.004\n",
      "x8             0.0257      0.003     10.034      0.000       0.021       0.031\n",
      "x9            -0.0005      0.001     -0.557      0.577      -0.002       0.001\n",
      "x10           -0.0010      0.000     -4.417      0.000      -0.001      -0.001\n",
      "==============================================================================\n",
      "Omnibus:                      926.013   Durbin-Watson:                   1.998\n",
      "Prob(Omnibus):                  0.000   Jarque-Bera (JB):             5411.442\n",
      "Skew:                          -0.524   Prob(JB):                         0.00\n",
      "Kurtosis:                       7.277   Cond. No.                     5.97e+07\n",
      "==============================================================================\n",
      "\n",
      "Warnings:\n",
      "[1] Standard Errors assume that the covariance matrix of the errors is correctly specified.\n",
      "[2] The condition number is large, 5.97e+07. This might indicate that there are\n",
      "strong multicollinearity or other numerical problems.\n",
      "\n",
      "\n",
      " Train MSE is : 18.09715716243851\n",
      " Test MSE is : 18.584665224573435\n"
     ]
    }
   ],
   "source": [
    "h_data = np.array(after_remove).T\n",
    "y = power_data.iloc[:,-1]\n",
    "y = y.to_numpy()\n",
    "#print(h_data)\n",
    "#print(y)\n",
    "x_train, x_test, y_train, y_test = train_test_split(h_data, y, test_size=0.3, random_state = 70)\n",
    "\n",
    "model = LinearRegression().fit(x_train, y_train)\n",
    "r_sq = model.score(x_test, y_test)\n",
    "y_pred_test = model.predict(x_test) \n",
    "y_pred_train = model.predict(x_train)\n",
    "\n",
    "x_train = sm.add_constant(x_train)\n",
    "est = sm.OLS(y_train, x_train)\n",
    "res = est.fit()\n",
    "print(res.summary())\n",
    "train_MSE = sum( (y_pred_train - y_train) ** 2 ) / len(y_train)\n",
    "test_MSE = sum(  (y_pred_test - y_test) **2  ) / len(y_test)\n",
    "print(\"\\n\")\n",
    "print(\" Train MSE is : \" + str(train_MSE) )\n",
    "print(\" Test MSE is : \" + str(test_MSE) )"
   ]
  },
  {
   "cell_type": "markdown",
   "metadata": {},
   "source": [
    "### (i)\n",
    "Perform\n",
    "k\n",
    "-nearest neighbor regression for this dataset using both normalized\n",
    "and raw features. Find the value of\n",
    "k ∈ {1, 2, . . . , 100}\n",
    "that gives you the\n",
    "best fit. Plot the train and test errors in terms of 1/k"
   ]
  },
  {
   "cell_type": "code",
   "execution_count": 111,
   "metadata": {},
   "outputs": [],
   "source": [
    "from sklearn.neighbors import KNeighborsClassifier\n",
    "from sklearn import metrics"
   ]
  },
  {
   "cell_type": "code",
   "execution_count": 112,
   "metadata": {},
   "outputs": [
    {
     "name": "stdout",
     "output_type": "stream",
     "text": [
      "[[  14   41 1024   73]\n",
      " [  25   62 1020   59]\n",
      " [   5   39 1012   92]\n",
      " ...\n",
      " [  31   74 1012   36]\n",
      " [  24   69 1013   62]\n",
      " [  21   62 1017   67]]\n",
      "[463 444 488 ... 429 435 453]\n",
      "[[  17   40 1011   61]\n",
      " [  29   68 1011   59]\n",
      " [  23   59 1019   59]\n",
      " ...\n",
      " [  20   62 1011   89]\n",
      " [   7   42 1008   83]\n",
      " [  30   71 1000   65]]\n",
      "[462 438 441 ... 443 483 431]\n"
     ]
    }
   ],
   "source": [
    "i_data = []\n",
    "y = power_data.iloc[:,-1]\n",
    "y = np.array(y, dtype=int)\n",
    "#y = y.reshape(-1,1)\n",
    "for i in range(0,4):\n",
    "    i_data.append(power_data[power_data.columns[i]])\n",
    "i_data = np.array(i_data,dtype=int).transpose()\n",
    "\n",
    "print(i_data)\n",
    "print(y)\n",
    "x_train, x_test, y_train, y_test = train_test_split(i_data, y, test_size=0.3, random_state = 70)\n",
    "print(x_train)\n",
    "print(y_train)\n",
    "#print(len(x_train))\n",
    "#print(len(y_train))"
   ]
  },
  {
   "cell_type": "code",
   "execution_count": 114,
   "metadata": {},
   "outputs": [
    {
     "name": "stdout",
     "output_type": "stream",
     "text": [
      "5\n",
      "[22.97944966910484, 19.5350052246604, 18.285692170749854, 17.509360849878092, 17.152420759317323, 17.279025891094985, 17.562024182713827, 17.652097483455243, 17.665712037359597, 17.828634622082863, 17.961654159146335, 18.117281531793214, 18.226348364279353, 18.335613346697066, 18.472267502612297, 18.611643101271333, 18.70719243502921, 18.791646778556164, 18.866524640810596, 18.93809561128526, 19.109446170201586, 19.044979576327535, 19.122625775386254, 19.186082568985043, 19.314680599094437, 19.349168588558456, 19.413385068699355, 19.47467461383711, 19.606114861352943, 19.651120786408192, 19.82240576492254, 19.888912018895855, 19.972614911343925, 20.068999866219748, 20.1005944028604, 20.148378742727456, 20.19697567600636, 20.24306345526133, 20.285326684973043, 20.327405738418697, 20.405293162190695, 20.427443367919476, 20.50988616513316, 20.501455492514207, 20.587983023078824, 20.67479567199274, 20.721057376026845, 20.805254563112182, 20.8769385390477, 20.951034204110073, 21.01319697123701, 21.06106862854215, 21.149483442470284, 21.262205924721894, 21.296882878370553, 21.364649419067483, 21.420392352859604, 21.459724349982253, 21.523031881985332, 21.572859243778826, 21.63445396518635, 21.680785301071293, 21.733151709798314, 21.779052479264628, 21.801529681635785, 21.868727648864425, 21.88788228728004, 21.93922189319517, 21.99205184408234, 22.022346405646825, 22.138392661886233, 22.18433443094216, 22.207638860701852, 22.280243557969506, 22.3043758040172, 22.349952806795656, 22.373461674279913, 22.40510709122557, 22.440510894378242, 22.47045694009051, 22.514958009210904, 22.53327361700869, 22.586608851844233, 22.631424644047804, 22.649273067146826, 22.688784348586506, 22.70676201792696, 22.760438526041277, 22.81300346142817, 22.827448731676096, 22.868408169658704, 22.89676855412876, 22.95066959700313, 22.974367352518588, 23.006798098474473, 23.044605575934387, 23.066269246720083, 23.1201008925951, 23.132345056381705]\n",
      "[1.4101836643273107, 5.505076900104524, 7.829343155310165, 9.343698671046738, 10.442359265342738, 11.226357573042698, 11.890523627698096, 12.529633137972226, 13.014513592782418, 13.422091981484249, 13.876964768978745, 14.169413543377445, 14.455306756624177, 14.762709010735808, 14.936193652215676, 15.190954205241153, 15.485440208986809, 15.686990397395402, 15.85589570225552, 16.032143123786767, 16.191233289891475, 16.374103613681672, 16.503097767163133, 16.64235203781098, 16.79773056592514, 16.951232690076758, 17.070698281666143, 17.18543408105361, 17.327462009805394, 17.433610571897812, 17.535876641613733, 17.592562434672242, 17.69224930149079, 17.793667747734016, 17.881539281981187, 17.98983133686159, 18.051713134747388, 18.127983774932108, 18.230956936864153, 18.354908541137778, 18.417831348032717, 18.511790316644216, 18.566349663923628, 18.593209754089933, 18.69118820477937, 18.76358655075931, 18.8601327743286, 18.954084436646117, 19.013465097819896, 19.111759952217383, 19.173949073813308, 19.221282348008845, 19.307291836384437, 19.36473085526686, 19.438544852326853, 19.495050850898846, 19.55578654518057, 19.60780360773468, 19.694162388480798, 19.7396923166259, 19.80079758303702, 19.87494342210167, 19.902794477116938, 19.954899385044143, 20.00670214429679, 20.070158259259166, 20.143065991152717, 20.19650554294574, 20.228655992047678, 20.27632156341696, 20.35601903424312, 20.412753971743165, 20.461630198098668, 20.510944604896416, 20.575817284687812, 20.62712947294793, 20.66311511665608, 20.714582009843372, 20.79034558756689, 20.84500907589217, 20.904386117695687, 20.954991122930867, 21.013083444633807, 21.072202642940564, 21.12207583522659, 21.175411295856474, 21.220333688613355, 21.275356541475908, 21.344666724112628, 21.402854106408338, 21.438240085620386, 21.48803454090122, 21.53338380434926, 21.56592678167216, 21.623419689719196, 21.663794059943765, 21.70085110515251, 21.750937233919696, 21.801512743585352]\n"
     ]
    }
   ],
   "source": [
    "from sklearn.neighbors import KNeighborsRegressor\n",
    "error_numbers_test = 20000\n",
    "error_numbers_train = 20000\n",
    "test_error = []\n",
    "train_error = []\n",
    "error_sum_test = 0\n",
    "error_sum_train = 0\n",
    "best_k = 0\n",
    "k = []\n",
    "for i in range(1,100):\n",
    "    # 1/k\n",
    "    k.append(1/i)\n",
    "    # fit knn regressor model\n",
    "    \n",
    "    knn = KNeighborsRegressor(n_neighbors = i)\n",
    "    knn.fit(x_train, y_train)\n",
    "    \n",
    "    # train error\n",
    "    knn_tmp = knn.predict(x_train)\n",
    "    \n",
    "    y_train_predict = knn.predict(x_train)\n",
    "    \n",
    "    train_MSE = sum( ( y_train_predict - y_train) ** 2 ) / len(y_train)\n",
    "    train_error.append( train_MSE )\n",
    "    \n",
    "    if train_MSE < error_numbers_train:\n",
    "        #best_k = i\n",
    "        error_numbers_train = train_MSE\n",
    "    # test error\n",
    "    \n",
    "\n",
    "    \n",
    "    y_test_predict = knn.predict(x_test)\n",
    "    \n",
    "    test_MSE = sum(  ( y_test_predict - y_test) **2  ) / len(y_test)  \n",
    "    \n",
    "    test_error.append( test_MSE  )\n",
    "    \n",
    "    if test_MSE < error_numbers_test:\n",
    "        best_k = i\n",
    "        error_numbers_test = test_MSE\n",
    "    \n",
    "      \n",
    "print(best_k)\n",
    "print(test_error)\n",
    "print(train_error)\n",
    "#print(len(train_error))"
   ]
  },
  {
   "cell_type": "code",
   "execution_count": 35,
   "metadata": {
    "scrolled": false
   },
   "outputs": [
    {
     "data": {
      "text/plain": [
       "<matplotlib.legend.Legend at 0x134dcf590>"
      ]
     },
     "execution_count": 35,
     "metadata": {},
     "output_type": "execute_result"
    },
    {
     "data": {
      "image/png": "[encoded data removed]",
      "text/plain": [
       "<Figure size 432x288 with 1 Axes>"
      ]
     },
     "metadata": {
      "needs_background": "light"
     },
     "output_type": "display_data"
    }
   ],
   "source": [
    "plt.xlabel('1/k value')\n",
    "plt.ylabel('error sum number')\n",
    "plt.plot(k,test_error, label='test_error')\n",
    "plt.plot(k,train_error, label = 'train error')\n",
    "#plt.gca().invert_xaxis()\n",
    "plt.legend()"
   ]
  },
  {
   "cell_type": "code",
   "execution_count": 38,
   "metadata": {},
   "outputs": [
    {
     "data": {
      "text/plain": [
       "array([41.76, 62.96, 39.4 , ..., 74.33, 69.45, 62.52])"
      ]
     },
     "execution_count": 38,
     "metadata": {},
     "output_type": "execute_result"
    }
   ],
   "source": [
    "power_np = power_data.to_numpy()\n",
    "power_np[:,1]"
   ]
  },
  {
   "cell_type": "code",
   "execution_count": 66,
   "metadata": {},
   "outputs": [],
   "source": [
    "i_data = []\n",
    "y = power_data.iloc[:,-1]\n",
    "y = np.array(y, dtype=int)\n",
    "#y = y.to_numpy()\n",
    "for i in range(0,5):\n",
    "    i_tmp =  ( power_np[:,i] - np.mean(power_np[:,i]) ) / np.std(power_np[:,i])\n",
    "    i_data.append(i_tmp)\n",
    "i_data = np.array(i_data)\n",
    "#i_data = np.array(i_data).transpose()\n",
    "\n",
    "#print(y)\n",
    "x_train, x_test, y_train, y_test = train_test_split(i_data[:4,:].T, y, test_size=0.3, random_state = 100)\n",
    "#print(x_train)\n",
    "#print(y_train)\n",
    "\n"
   ]
  },
  {
   "cell_type": "code",
   "execution_count": 54,
   "metadata": {},
   "outputs": [
    {
     "name": "stdout",
     "output_type": "stream",
     "text": [
      "3\n",
      "[20.553117380703586, 17.04440961337513, 16.275397654708133, 16.31328369905956, 16.284444444444407, 16.45697395410054, 16.394415655499397, 16.490568399512366, 16.74082244324909, 16.71380703587596, 16.921247240141454, 17.00377820349101, 17.16874931729047, 17.26717562678155, 17.329669104841507, 17.366139846743295, 17.517408905906702, 17.593819205249662, 17.663484592799655, 17.83157349355621, 17.89878533556696, 18.009650509080583, 18.115278329214735, 18.2260602916136, 18.358000417972868, 18.39431604352026, 18.439574306042335, 18.4991438843039, 18.523710183966944, 18.583514454893802, 18.6821007085459, 18.72822615976576, 18.77881151529869, 18.811294245401136, 18.836112852664566, 18.91894546787593, 19.00350854964084, 19.08512530018882, 19.131550147465273, 19.18462817833503, 19.264286384740135, 19.318959988500268, 19.380476592259363, 19.439837603737608, 19.494783337848457, 19.529430772097474, 19.572103545878463, 19.59334892870289, 19.631084430018788, 19.677605712295406, 19.67900739085564, 19.686902951160217, 19.704659067814422, 19.73683538473519, 19.781994697617453, 19.786896165205803, 19.82823544344859, 19.877287678540313, 19.90181030505349, 19.93362726885716, 19.96460008250499, 20.009420245731093, 20.030156211510008, 20.055871722341955, 20.11577476458111, 20.154726470557225, 20.14796399635966, 20.192440151424716, 20.22898476102306, 20.243824948997297, 20.312913523941802, 20.326386806012444, 20.372927350389705, 20.395564101761625, 20.458024041178017, 20.480146531703504, 20.52633170680632, 20.562886281940198, 20.611991710417595, 20.645867075931697, 20.665905277859945, 20.70293816956827, 20.7537386771848, 20.792218849690105, 20.82239987272793, 20.856538191071326, 20.89403554867499, 20.91816120020375, 20.94530427188266, 20.968301404853133, 21.004725517419782, 21.042345880748677, 21.058584859845546, 21.104412673905024, 21.13498009997766, 21.166882697908388, 21.20726759201293, 21.234962835495622, 21.254200953556083]\n",
      "[0.0, 4.823615051515604, 6.789159325071029, 8.133184634911155, 9.05257876661193, 9.901141472964893, 10.675529402443425, 11.20685334851426, 11.599299114952839, 11.940746602956562, 12.352970430820625, 12.640021236706223, 12.912588255979639, 13.180571257919288, 13.416747133874193, 13.607949454979842, 13.789689439004118, 13.950507136971135, 14.140832894540328, 14.261775421830656, 14.440085366683657, 14.580781822871172, 14.72158710005572, 14.801068938413314, 14.94835394952966, 15.034771155149352, 15.15432580114384, 15.27239351765786, 15.353824107445535, 15.459491978165993, 15.575380717009203, 15.662546691848963, 15.760354848250302, 15.840191574701915, 15.935751433020473, 16.012899985620866, 16.074943775725433, 16.168445208649647, 16.2313747596365, 16.29269439674475, 16.35006209551418, 16.4267980349274, 16.4839843773028, 16.538457996487878, 16.58907799143524, 16.650262383659086, 16.695730668103806, 16.75840900465349, 16.824739231581596, 16.88477222636999, 16.930253792763125, 16.968681993968875, 17.04794822929112, 17.08991547307479, 17.132449635151804, 17.176320430180343, 17.229539574621427, 17.28967240376145, 17.333129735143128, 17.369741716854875, 17.428203421275484, 17.463886053627586, 17.512273087911076, 17.539485088939077, 17.5741865164391, 17.6038701936491, 17.66700230813251, 17.716891549591256, 17.760698243282807, 17.798454592827056, 17.841916502685898, 17.88060951720585, 17.911357255805218, 17.9416796199643, 17.977798271199198, 18.007081534213217, 18.037689433972766, 18.06736574915492, 18.108475798998544, 18.15728439506492, 18.200181446935755, 18.23526738290219, 18.284188427630347, 18.327812979006747, 18.359033766604124, 18.389985793143143, 18.419035639130126, 18.44721173875797, 18.479998967706685, 18.52343892695637, 18.555452945107454, 18.59245934895092, 18.631224063014145, 18.666022410391182, 18.70416420797831, 18.74005501530494, 18.77072060460547, 18.80361691351414, 18.84308223417536]\n"
     ]
    }
   ],
   "source": [
    "from sklearn.neighbors import KNeighborsRegressor\n",
    "error_numbers_test = 200\n",
    "error_numbers_train = 200\n",
    "test_error = []\n",
    "train_error = []\n",
    "error_sum_test = 0\n",
    "error_sum_train = 0\n",
    "best_k = 0\n",
    "k = []\n",
    "for i in range(1,100):\n",
    "    # 1/k\n",
    "    k.append(1/i)\n",
    "    # fit knn regressor model\n",
    "    \n",
    "    knn = KNeighborsRegressor(n_neighbors = i)\n",
    "    knn.fit(x_train, y_train.astype('int'))\n",
    "    \n",
    "    # train error\n",
    "    knn_tmp = knn.predict(x_train)\n",
    "    \n",
    "    y_train_predict = knn.predict(x_train)\n",
    "    \n",
    "    train_MSE = sum( ( y_train_predict - y_train) ** 2 ) / len(y_train)\n",
    "    train_error.append( train_MSE )\n",
    "    \n",
    "    if train_MSE < error_numbers_train:\n",
    "        #best_k = i\n",
    "        error_numbers_train = train_MSE\n",
    "    # test error\n",
    "\n",
    "    y_test_predict = knn.predict(x_test)\n",
    "    \n",
    "    test_MSE = sum(  ( y_test_predict - y_test) **2  ) / len(y_test)  \n",
    "    \n",
    "    test_error.append( test_MSE  )\n",
    "    \n",
    "    if test_MSE < error_numbers_test:\n",
    "        best_k = i\n",
    "        error_numbers_test = test_MSE\n",
    "    \n",
    "      \n",
    "print(best_k)\n",
    "print(test_error)\n",
    "print(train_error)\n",
    "#print(len(train_error))"
   ]
  },
  {
   "cell_type": "code",
   "execution_count": 55,
   "metadata": {},
   "outputs": [
    {
     "data": {
      "text/plain": [
       "<matplotlib.legend.Legend at 0x134b1c550>"
      ]
     },
     "execution_count": 55,
     "metadata": {},
     "output_type": "execute_result"
    },
    {
     "data": {
      "image/png": "[encoded data removed]",
      "text/plain": [
       "<Figure size 432x288 with 1 Axes>"
      ]
     },
     "metadata": {
      "needs_background": "light"
     },
     "output_type": "display_data"
    }
   ],
   "source": [
    "plt.xlabel('1/k value')\n",
    "plt.ylabel('error sum number')\n",
    "plt.plot(k,test_error, label='test_error')\n",
    "plt.plot(k,train_error, label = 'train error')\n",
    "plt.legend()"
   ]
  },
  {
   "cell_type": "markdown",
   "metadata": {},
   "source": [
    "### ISLR: 2.4.1\n",
    "\n",
    "For each of parts (a) through (d), indicate whether we would generally\n",
    "expect the performance of a flexible statistical learning method to be\n",
    "better or worse than an inflexible method. Justify your answer.\n"
   ]
  },
  {
   "cell_type": "markdown",
   "metadata": {},
   "source": [
    "(a) The sample size n is extremely large, and the number of predictors p is small.\n",
    "\n",
    "<div style =\"color:navy\">\n",
    "Flexible methods work better when we have a large n sample size, and also greatly reduces the risk of overfitting. \n",
    "</div>\n"
   ]
  },
  {
   "cell_type": "markdown",
   "metadata": {},
   "source": [
    "(b) The number of predictors p is extremely large, and the number\n",
    "of observations n is small.\n",
    "\n",
    "<div style =\"color:navy\">\n",
    "Inflexible method should be choosed because flexible model will overfit with a small number of observations.\n",
    "</div>"
   ]
  },
  {
   "cell_type": "markdown",
   "metadata": {},
   "source": [
    "(c) The relationship between the predictors and response is highly\n",
    "non-linear.\n",
    "<div style=\"color:navy\">\n",
    "flexible methods fits better to non-linear and has less bias.\n",
    "</div>"
   ]
  },
  {
   "cell_type": "markdown",
   "metadata": {},
   "source": [
    "(d) The variance of the error terms, i.e. σ2 = Var(), is extremely\n",
    "high.\n",
    "<div style = \"color:navy\">\n",
    "We should choose inflexible method to avoid overfitting because high variance varies a lot.\n",
    "</div>"
   ]
  },
  {
   "cell_type": "markdown",
   "metadata": {},
   "source": [
    "### ISLR: 2.4.7\n",
    "The table below provides a training data set containing six observations, three predictors, and one qualitative response variable."
   ]
  },
  {
   "cell_type": "markdown",
   "metadata": {},
   "source": [
    "a) Compute the Euclidean distance between each observation and the test point, X1=X2=X3=0\n",
    "\n",
    "The Euclidean distance between points p and q is the lenght of the line segment connecting them pq¯.\n",
    "<div style = \"color:navy\">\n",
    "    formula:\n",
    "    dist((x, y), (a, b)) =  sqrt ( (x - a)² + (y - b)² )\n",
    "    \n",
    "</div>"
   ]
  },
  {
   "cell_type": "code",
   "execution_count": 77,
   "metadata": {},
   "outputs": [
    {
     "name": "stdout",
     "output_type": "stream",
     "text": [
      "[0, 3, 0]\n"
     ]
    }
   ],
   "source": [
    "six_point = [[0,3,0],[2,0,0],[0,1,3],[0,1,2],[-1,0,1],[1,1,1]]\n",
    "print(six_point[0])"
   ]
  },
  {
   "cell_type": "code",
   "execution_count": 79,
   "metadata": {},
   "outputs": [
    {
     "name": "stdout",
     "output_type": "stream",
     "text": [
      "1th point 3.0\n",
      "2th point 2.0\n",
      "3th point 3.1622776601683795\n",
      "4th point 2.23606797749979\n",
      "5th point 1.4142135623730951\n",
      "6th point 1.7320508075688772\n"
     ]
    }
   ],
   "source": [
    "import math\n",
    "for i in range( 0, len(six_point) ):\n",
    "    tmp = math.sqrt( (0-six_point[i][0])**2 + (0-six_point[i][1])**2 + (0-six_point[i][2])**2  )\n",
    "    print ( str(i+1) + \"th point \" + str (tmp) )"
   ]
  },
  {
   "cell_type": "markdown",
   "metadata": {},
   "source": [
    "(b) What is our prediction with K = 1? Why?\n",
    "<div style=\"color:navy\">\n",
    "    The nearest neighbor to test point (0, 0, 0) , nearest point is [-1,0,1]       \n",
    "</div>"
   ]
  },
  {
   "cell_type": "markdown",
   "metadata": {},
   "source": [
    "(c) What is our prediction with K = 3? Why?\n",
    "<div style = \"color:navy\">\n",
    "while k = 3, the nearest point are [-1, 0, 1], [1, 1, 1], [2, 0, 0]. Red are more than green, so we predict Red\n",
    "\n",
    "</div>"
   ]
  },
  {
   "cell_type": "markdown",
   "metadata": {},
   "source": [
    "(d) If the Bayes decision boundary in this problem is highly nonlinear, then would we expect the best value for\n",
    "K to be large or small? Why?\n",
    "<div style = \"color:navy\">\n",
    "The best value for K would be small because it is easy to fit in data with few K values. \n",
    "</div>"
   ]
  },
  {
   "cell_type": "code",
   "execution_count": null,
   "metadata": {},
   "outputs": [],
   "source": []
  }
 ],
 "metadata": {
  "kernelspec": {
   "display_name": "Python 3",
   "language": "python",
   "name": "python3"
  },
  "language_info": {
   "codemirror_mode": {
    "name": "ipython",
    "version": 3
   },
   "file_extension": ".py",
   "mimetype": "text/x-python",
   "name": "python",
   "nbconvert_exporter": "python",
   "pygments_lexer": "ipython3",
   "version": "3.7.4"
  }
 },
 "nbformat": 4,
 "nbformat_minor": 2
}
